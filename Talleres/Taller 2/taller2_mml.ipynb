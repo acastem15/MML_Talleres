{
  "cells": [
    {
      "cell_type": "markdown",
      "id": "8f44f3dd",
      "metadata": {
        "id": "8f44f3dd"
      },
      "source": [
        "# Parte 1:"
      ]
    },
    {
      "cell_type": "code",
      "execution_count": null,
      "id": "1d1ec0ea",
      "metadata": {
        "vscode": {
          "languageId": "plaintext"
        },
        "id": "1d1ec0ea"
      },
      "outputs": [],
      "source": []
    }
  ],
  "metadata": {
    "language_info": {
      "name": "python"
    },
    "colab": {
      "provenance": []
    }
  },
  "nbformat": 4,
  "nbformat_minor": 5
}